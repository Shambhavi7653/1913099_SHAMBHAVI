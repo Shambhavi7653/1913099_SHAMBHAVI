{
 "cells": [
  {
   "cell_type": "code",
   "execution_count": 86,
   "id": "d6102fa3",
   "metadata": {},
   "outputs": [],
   "source": [
    "import pandas as pd\n",
    "import numpy as np\n",
    "import io\n",
    "from collections import Counter           \n",
    "from itertools import combinations  "
   ]
  },
  {
   "cell_type": "code",
   "execution_count": 92,
   "id": "f4fdf27c",
   "metadata": {},
   "outputs": [
    {
     "name": "stdout",
     "output_type": "stream",
     "text": [
      "    0   1    2    3\n",
      "0  I1  I2   I5  NaN\n",
      "1  I2  I4  NaN  NaN\n",
      "2  I2  I3  NaN  NaN\n",
      "3  I1  I2   I4  NaN\n",
      "4  I1  I3  NaN  NaN\n",
      "5  I2  I3  NaN  NaN\n",
      "6  I1  I3  NaN  NaN\n",
      "7  I1  I2   I3   I5\n",
      "8  I1  I2   I3  NaN\n"
     ]
    }
   ],
   "source": [
    "df = pd.read_csv(r\"C:\\Users\\HP\\Desktop\\apriori_test.csv\",header=None)\n",
    "print(df)"
   ]
  },
  {
   "cell_type": "code",
   "execution_count": 93,
   "id": "c79a71db",
   "metadata": {},
   "outputs": [
    {
     "name": "stdout",
     "output_type": "stream",
     "text": [
      "Enter Minimum Support:0.60\n",
      "C1:\n",
      "{'I1': 6, 'I2': 7, 'I5': 2, 'I4': 2, 'I3': 6}\n",
      "\n",
      "L1:\n",
      "['I1']: 6\n",
      "['I2']: 7\n",
      "['I5']: 2\n",
      "['I4']: 2\n",
      "['I3']: 6\n",
      "\n",
      "C2:\n",
      "{'I1': 6, 'I2': 7, 'I5': 2, 'I4': 2, 'I3': 6}\n",
      "\n",
      "L2:\n",
      "['I1']: 6\n",
      "['I2']: 7\n",
      "['I5']: 2\n",
      "['I4']: 2\n",
      "['I3']: 6\n",
      "\n",
      "C3:\n",
      "{'I1': 6, 'I2': 7, 'I5': 2, 'I4': 2, 'I3': 6}\n",
      "\n",
      "L3:\n",
      "['I1']: 6\n",
      "['I2']: 7\n",
      "['I5']: 2\n",
      "['I4']: 2\n",
      "['I3']: 6\n",
      "\n",
      "C4:\n",
      "{'I1': 6, 'I2': 7, 'I5': 2, 'I4': 2, 'I3': 6}\n",
      "\n",
      "L4:\n",
      "['I1']: 6\n",
      "['I2']: 7\n",
      "['I5']: 2\n",
      "['I4']: 2\n",
      "['I3']: 6\n",
      "\n",
      "C5:\n",
      "{'I1': 6, 'I2': 7, 'I5': 2, 'I4': 2, 'I3': 6}\n",
      "\n",
      "L5:\n",
      "['I1']: 6\n",
      "['I2']: 7\n",
      "['I5']: 2\n",
      "['I4']: 2\n",
      "['I3']: 6\n",
      "\n"
     ]
    }
   ],
   "source": [
    "Candidate_set = []\n",
    "Frequent_set = []\n",
    "items = pd.unique(df.values.ravel())   \n",
    "items = items[~pd.isnull(items)]       \n",
    "min_support = float(input(\"Enter Minimum Support:\")) \n",
    "\n",
    "for itr_no in range(1,len(items)+1): \n",
    "    Count = {}   \n",
    "    intermediate = []   \n",
    "    print(\"C\"+str(itr_no)+\":\")\n",
    "    if iterno==1:\n",
    "        Candidate_set.append(items)\n",
    "        for txn in Candidate_set[itr_no-1]:\n",
    "            ctr=0\n",
    "            for val in df.values:\n",
    "                if txn in val:\n",
    "                    ctr+=1\n",
    "            Count[txn] = ctr\n",
    "    else:\n",
    "        Candidate_set.append(list(combinations(np.unique(np.array(Frequent_set[itr_no-2]).ravel()),itr_no)))\n",
    "        for txn in Candidate_set[itr_no-1]:\n",
    "            ctr = 0\n",
    "            for val in df.values:\n",
    "                if all(i in val for i in txn):\n",
    "                    ctr+=1\n",
    "            Count[txn] = ctr\n",
    "            \n",
    "    for k in Count.keys():\n",
    "        if Count[k] >= min_support:\n",
    "            intermediate.append(k)       \n",
    "  \n",
    "    print(Count)\n",
    "    print()\n",
    "    l = Counter()\n",
    "    print(\"L\"+str(itr_no)+\":\")\n",
    "    for i in Count:\n",
    "        if(Count[i] >= min_support):\n",
    "            l[frozenset([i])]+=Count[i]          #creates an immutable Set objec and cannot have duplicate values in the frozenset\n",
    "    \n",
    "    for i in l:\n",
    "        print(str(list(i))+\": \"+str(l[i]))\n",
    "    print()\n",
    "    if intermediate == []:\n",
    "        print('Final Frequent Set')\n",
    "        print(Frequent_set[-1])\n",
    "        # for i in Frequent_set:\n",
    "        #   for j in i:\n",
    "        #     print(j)\n",
    "        break\n",
    "    Frequent_set.append(intermediate)"
   ]
  },
  {
   "cell_type": "code",
   "execution_count": null,
   "id": "c081bc14",
   "metadata": {},
   "outputs": [],
   "source": []
  },
  {
   "cell_type": "code",
   "execution_count": null,
   "id": "c075774e",
   "metadata": {},
   "outputs": [],
   "source": []
  }
 ],
 "metadata": {
  "kernelspec": {
   "display_name": "Python 3 (ipykernel)",
   "language": "python",
   "name": "python3"
  },
  "language_info": {
   "codemirror_mode": {
    "name": "ipython",
    "version": 3
   },
   "file_extension": ".py",
   "mimetype": "text/x-python",
   "name": "python",
   "nbconvert_exporter": "python",
   "pygments_lexer": "ipython3",
   "version": "3.9.7"
  }
 },
 "nbformat": 4,
 "nbformat_minor": 5
}
